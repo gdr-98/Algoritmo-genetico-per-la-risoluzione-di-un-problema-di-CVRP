{
 "cells": [
  {
   "cell_type": "markdown",
   "id": "c1b3ec54",
   "metadata": {},
   "source": [
    "# Capacitated Vehicle Routing with Time Window"
   ]
  },
  {
   "cell_type": "markdown",
   "id": "6f7da088",
   "metadata": {},
   "source": [
    "## Inizializzazione"
   ]
  },
  {
   "cell_type": "markdown",
   "id": "1953e31f",
   "metadata": {},
   "source": [
    "### Librerie"
   ]
  },
  {
   "cell_type": "code",
   "execution_count": 1,
   "id": "7950bfeb",
   "metadata": {
    "scrolled": true
   },
   "outputs": [],
   "source": [
    "import gurobipy as gb\n",
    "from gurobipy import *\n",
    "import re\n",
    "from random import *\n",
    "import matplotlib.pyplot as plt\n",
    "import networkx as nx\n",
    "\n",
    "import matplotlib.pyplot as plt\n",
    "'''\n",
    "def distance(city1, city2):\n",
    "    i = coordinate[city1]\n",
    "    j = coordinate[city2]\n",
    "    diff = (i[0]-j[0], i[1]-j[1])\n",
    "    return math.sqrt(diff[0]*diff[0]+diff[1]*diff[1])\n",
    "'''\n",
    "   \n",
    "\n",
    "plt.rcParams[\"figure.figsize\"] = (20,10)"
   ]
  },
  {
   "cell_type": "markdown",
   "id": "d342c8ce",
   "metadata": {},
   "source": [
    "### Classi"
   ]
  },
  {
   "cell_type": "code",
   "execution_count": 2,
   "id": "d8a61e21",
   "metadata": {},
   "outputs": [],
   "source": [
    "class Node:\n",
    "    def __init__(self, number, coordinate, demand, rdy_time, due_date, serv_time):\n",
    "        self.number = number\n",
    "        self.coordinate = coordinate\n",
    "        self.demand = demand\n",
    "        self.rdy_time = rdy_time\n",
    "        self.due_date = due_date\n",
    "        self.service_time = serv_time\n",
    "    \n",
    "    def distance(self, node):\n",
    "        i = self.coordinate\n",
    "        j = node.coordinate\n",
    "        diff = (i[0]-j[0], i[1]-j[1])\n",
    "        return math.sqrt(diff[0]*diff[0]+diff[1]*diff[1])\n",
    "    \n",
    "    def travel_time(self,node):\n",
    "        return round(self.distance(node),1)"
   ]
  },
  {
   "cell_type": "code",
   "execution_count": 3,
   "id": "9475424a",
   "metadata": {},
   "outputs": [],
   "source": [
    "class CPVRTW:\n",
    "    def __init__(self, file_name, num_nodes):\n",
    "        self.num_nodes = num_nodes\n",
    "        self.nodes = []\n",
    "        f = open(file_name, \"r\")\n",
    "        for i in range(4) :\n",
    "            line = f.readline()    \n",
    "\n",
    "        line = f.readline()\n",
    "        data  = re.findall(r\"[-+]?\\d.\\d+|\\d+\", line)\n",
    "        self.num_vehicle = int(data[0])\n",
    "        self.capacity = int(data[1])\n",
    "\n",
    "        for i in range(4) :\n",
    "            line = f.readline()    #   | Salto altre 4 linee\n",
    "\n",
    "        for i in range(num_nodes) :\n",
    "            line = f.readline()\n",
    "            data = re.findall(r\"[-+]?\\d.\\d+|\\d+\", line)\n",
    "            coordinate = (int(data[1]), int(data[2]))\n",
    "            demand = int(data[3])\n",
    "            rdy_time = int(data[4])\n",
    "            due_date = int(data[5])\n",
    "            serv_time = int(data[6])\n",
    "            self.nodes.append(Node(i,coordinate,demand,rdy_time,due_date,serv_time))\n",
    "        f.close()\n",
    "\n",
    "        self.calculate_distances()\n",
    "        self.calculate_travel_times()\n",
    "    \n",
    "    def calculate_distances (self):\n",
    "        self.distances = {(i,j): self.nodes[i].distance(self.nodes[j]) for i in range(self.num_nodes) for j in range(self.num_nodes) if i!=j}\n",
    "\n",
    "    def calculate_travel_times(self):\n",
    "        self.travel_times = {(i,j): round(self.distances[i,j],1) for i in range(self.num_nodes) for j in range(self.num_nodes) if i != j}\n",
    "    \n",
    "    def calculate_routes_from_model(self,x):\n",
    "        node = []\n",
    "        for i in range(1,self.num_nodes):\n",
    "            if x[0,i]>0:\n",
    "                node.append(i)\n",
    "\n",
    "        route = []\n",
    "        self.routes = []\n",
    "        for k in node:\n",
    "            next = k\n",
    "            route.append(k)\n",
    "            stop = 1\n",
    "            while stop:\n",
    "                for i in range(self.num_nodes):\n",
    "                    if i==0 and x[next,i] == 1:\n",
    "                        stop = 0\n",
    "                    elif x[next,i] == 1:\n",
    "                        route.append(i)\n",
    "                        next = i\n",
    "\n",
    "            self.routes.append(route)\n",
    "            route = []\n",
    "        "
   ]
  },
  {
   "cell_type": "markdown",
   "id": "8b6e5791",
   "metadata": {},
   "source": [
    "### Lettura del file e memorizzazione dei dati"
   ]
  },
  {
   "cell_type": "markdown",
   "id": "a783dc12",
   "metadata": {},
   "source": [
    "$num\\_nodes$  Numero di nodi <br>\n",
    "$num\\_vehicle$ Numero di veicoli <br>\n",
    "$capacity$ Capacità di ogni veicolo (uguale per tutti) <br>\n",
    "$demand_i$ Domanda di ogni cliente i da soddisfare <br>\n",
    "$time\\_window_i$ Finestra temporale di servizio per ogni cliente i <br>\n",
    "$coordinate$ Posizione nello spazio di ogni nodo <br>\n",
    "$travel\\_time_{i,j}$ Tempo di percorrenza per raggiungere il cliente j partendo dal cliente i <br>\n",
    "$dist_{i,j}$ Distanza euclidea tra il cliente i e il cliente j"
   ]
  },
  {
   "cell_type": "code",
   "execution_count": 4,
   "id": "45348213",
   "metadata": {},
   "outputs": [],
   "source": [
    "file_name = \"VRPTW-Instances/Solomon/C102.txt\"\n",
    "instance = CPVRTW(file_name, 50)"
   ]
  },
  {
   "cell_type": "markdown",
   "id": "3194878b",
   "metadata": {},
   "source": [
    "## Modellazione"
   ]
  },
  {
   "cell_type": "markdown",
   "id": "b206e2b4",
   "metadata": {},
   "source": [
    "### Variabili"
   ]
  },
  {
   "cell_type": "markdown",
   "id": "f030d9db",
   "metadata": {},
   "source": [
    "$x_{i,j}$ Variabile binaria (1 se l'arco è attraversato da un veicolo, 0 altrimenti) <br>\n",
    "$u_i$ Quantità di domanda servita dal veicolo nel percorso dal deposito al nodo i <br>\n",
    "$a_i$ Tempo di arrivo nel nodo $i$"
   ]
  },
  {
   "cell_type": "code",
   "execution_count": 5,
   "id": "71c11ac2",
   "metadata": {},
   "outputs": [
    {
     "name": "stdout",
     "output_type": "stream",
     "text": [
      "Academic license - for non-commercial use only - expires 2021-08-10\n",
      "Using license file C:\\Users\\Giuseppe\\Universita\\x\\gurobi.lic\n"
     ]
    }
   ],
   "source": [
    "mod = gb.Model('CVRP')\n",
    "x = mod.addVars(range(instance.num_nodes), range(instance.num_nodes),vtype=GRB.BINARY, name=\"X\")\n",
    "u = mod.addVars(range(instance.num_nodes),vtype=GRB.INTEGER, name=\"Y\")\n",
    "a = mod.addVars(range(instance.num_nodes), vtype=GRB.INTEGER,name=\"A\")"
   ]
  },
  {
   "cell_type": "markdown",
   "id": "3e749f02",
   "metadata": {},
   "source": [
    "### Vincoli"
   ]
  },
  {
   "cell_type": "markdown",
   "id": "fedd3460",
   "metadata": {},
   "source": [
    "Se un veicolo entra nel nodo $i$ deve anche uscirne\n",
    "$$\\sum_{j=0}^{n} x_{i,j} - \\sum_{j=0}^{n} x_{j,i} = 0 \\quad \\forall i \\in \\{0,1,2,...,n\\}$$"
   ]
  },
  {
   "cell_type": "code",
   "execution_count": 6,
   "id": "438b1743",
   "metadata": {},
   "outputs": [],
   "source": [
    "mod.addConstrs((x.sum(i,'*') - x.sum('*',i)  == 0 for i in range(instance.num_nodes)), name=\"Trasporto\");"
   ]
  },
  {
   "cell_type": "markdown",
   "id": "58141c0a",
   "metadata": {},
   "source": [
    "Dal deposito devono uscire massimo $m$ veicoli\n",
    "$$\\sum_{j=1}^{n} x_{0j} \\leq m $$"
   ]
  },
  {
   "cell_type": "code",
   "execution_count": 7,
   "id": "b2635f07",
   "metadata": {},
   "outputs": [],
   "source": [
    "mod.addConstr(x.sum(0,'*') - x[0,0] <= instance.num_vehicle, name=\"NumeroVeicoli\");"
   ]
  },
  {
   "cell_type": "markdown",
   "id": "03f30153",
   "metadata": {},
   "source": [
    "Ogni cliente deve essere servito da un solo veicolo\n",
    "$$\\sum_{j=0}^{n} x_{i,j} = 1 \\quad \\forall  i \\in \\{1,2,...,n\\}$$"
   ]
  },
  {
   "cell_type": "code",
   "execution_count": 8,
   "id": "33628df5",
   "metadata": {},
   "outputs": [],
   "source": [
    "mod.addConstrs((x.sum(i,'*') == 1 for i in range(1,instance.num_nodes)), name=\"VeicoliCliente\");"
   ]
  },
  {
   "cell_type": "markdown",
   "id": "5005de44",
   "metadata": {},
   "source": [
    "Quando il camion arriva al cliente $i$, la domanda totale servita deve essere minore della sua capacità\n",
    "$$u_i \\leq Q \\quad \\forall i \\in V$$ <br>\n",
    "La domanda iniziale (nel nodo 0) deve essere nulla essendo il deposito\n",
    "$$u_0 = 0$$"
   ]
  },
  {
   "cell_type": "code",
   "execution_count": 9,
   "id": "ec5d99bd",
   "metadata": {},
   "outputs": [],
   "source": [
    "mod.addConstrs((u[i] <= instance.capacity for i in range(instance.num_nodes)), \"CapacitàMassima\");\n",
    "mod.addConstr((u[0] == 0), \"DomandaIniziale\");"
   ]
  },
  {
   "cell_type": "markdown",
   "id": "f88f2bbf",
   "metadata": {},
   "source": [
    "Si deve evitare di considerare archi ricorsivi (un camion entra in nodo e va nello stesso nodo)\n",
    "$$x_{i,i} = 0 \\quad \\forall i \\in {0,1,...,n}$$"
   ]
  },
  {
   "cell_type": "code",
   "execution_count": 10,
   "id": "1c22fb8e",
   "metadata": {},
   "outputs": [],
   "source": [
    "mod.addConstrs((x[i,i] == 0 for i in range(instance.num_nodes)), \"ArchiRicorsivi\");"
   ]
  },
  {
   "cell_type": "markdown",
   "id": "60927289",
   "metadata": {},
   "source": [
    "Per permettere il trasporto, dopo che il veicolo è arrivato ad un nodo si deve assicurare che può andare in quello successivo. Bisogna controllare che la richiesta del nodo successivo non supera la capacità corrente del veicolo."
   ]
  },
  {
   "cell_type": "markdown",
   "id": "7f90798c",
   "metadata": {},
   "source": [
    "$$u_j - u_i - d_jx_{i,j} + Q(1-x_{i,j}) \\geq 0 \\quad \\forall i,j \\in V, \\; i\\neq j, \\; j \\neq 0$$"
   ]
  },
  {
   "cell_type": "code",
   "execution_count": 11,
   "id": "fdf2c936",
   "metadata": {},
   "outputs": [],
   "source": [
    "mod.addConstrs(u[j] - u[i] - instance.nodes[j].demand*x[i,j] + instance.capacity*(1-x[i,j]) >= 0 for i in range(instance.num_nodes) for j in range(instance.num_nodes) if i!=j and j!=0);"
   ]
  },
  {
   "cell_type": "markdown",
   "id": "22a96bf2",
   "metadata": {},
   "source": [
    "Un veicolo può arrivare ad un nodo solo se ha completamente servito il nodo precedente\n",
    "$$a_j \\geq (a_i + t_i + t_{ij}) - (1-x_{ij})T \\quad \\forall i \\in \\{0,1,...,n\\} \\; \\forall j \\in \\{1,2,...,n\\} \\; i \\neq j$$\n",
    "T è un tempo molto grande, si può porre pari al massimo tempo per servire tutti i nodi"
   ]
  },
  {
   "cell_type": "code",
   "execution_count": 12,
   "id": "7d05a21d",
   "metadata": {},
   "outputs": [],
   "source": [
    "mod.addConstrs((a[j] >= (a[i]+instance.nodes[i].service_time+instance.travel_times[i,j]) - (1-x[i,j])*instance.nodes[0].due_date for i in range(instance.num_nodes) for j in range(1,instance.num_nodes) if i!=j),name=\"TempiDiArrivo\");\n",
    "#mod.addConstrs((a[i] + travel_time[i,0] + serv_time[i] <= time_window[0][1] for i in range(1,num_nodes)),name=\"TempoDeposito\");\n"
   ]
  },
  {
   "cell_type": "markdown",
   "id": "7398ffbe",
   "metadata": {},
   "source": [
    "Il tempo di arrivo di ogni nodo deve essere compreso nella finestra temporale\n",
    "$$l_i \\leq a_i \\leq L_i \\quad \\forall i \\in \\{0,1,...,n\\}$$"
   ]
  },
  {
   "cell_type": "code",
   "execution_count": 13,
   "id": "7674d388",
   "metadata": {},
   "outputs": [],
   "source": [
    "mod.addConstrs((a[i] >= instance.nodes[i].rdy_time for i in range(1,instance.num_nodes)),name=\"TW_Lower\")\n",
    "mod.addConstrs((a[i] <= instance.nodes[i].due_date for i in range(1,instance.num_nodes)),name=\"TW_Upper\");"
   ]
  },
  {
   "cell_type": "markdown",
   "id": "6c78d95d",
   "metadata": {},
   "source": [
    "### Funzione obiettivo"
   ]
  },
  {
   "cell_type": "markdown",
   "id": "cde3c579",
   "metadata": {},
   "source": [
    "Minimizzare i costi di trasporto totali\n",
    "$$min \\sum_{i=1}^{n}\\sum_{j=1}^{n} c_{i,j}x_{i,j} \\quad i \\neq j$$"
   ]
  },
  {
   "cell_type": "code",
   "execution_count": 14,
   "id": "c4223b9c",
   "metadata": {},
   "outputs": [],
   "source": [
    "obj = (gb.quicksum(instance.distances[i,j]*x[i,j] for i in range(instance.num_nodes) for j in range(instance.num_nodes) if i!=j))\n",
    "mod.setObjective(obj, GRB.MINIMIZE)"
   ]
  },
  {
   "cell_type": "code",
   "execution_count": 15,
   "id": "f3346770",
   "metadata": {},
   "outputs": [
    {
     "name": "stdout",
     "output_type": "stream",
     "text": [
      "Gurobi Optimizer version 9.1.1 build v9.1.1rc0 (win64)\n",
      "Thread count: 2 physical cores, 4 logical processors, using up to 4 threads\n",
      "Optimize a model with 5101 rows, 2600 columns and 22004 nonzeros\n",
      "Model fingerprint: 0xbadfce9d\n",
      "Variable types: 0 continuous, 2600 integer (2500 binary)\n",
      "Coefficient statistics:\n",
      "  Matrix range     [1e+00, 1e+03]\n",
      "  Objective range  [1e+00, 6e+01]\n",
      "  Bounds range     [1e+00, 1e+00]\n",
      "  RHS range        [1e+00, 1e+03]\n",
      "Presolve removed 2448 rows and 861 columns\n",
      "Presolve time: 0.12s\n",
      "Presolved: 2653 rows, 1739 columns, 11064 nonzeros\n",
      "Variable types: 0 continuous, 1739 integer (1648 binary)\n",
      "\n",
      "Root relaxation: objective 2.616781e+02, 267 iterations, 0.03 seconds\n",
      "\n",
      "    Nodes    |    Current Node    |     Objective Bounds      |     Work\n",
      " Expl Unexpl |  Obj  Depth IntInf | Incumbent    BestBd   Gap | It/Node Time\n",
      "\n",
      "     0     0  311.99360    0   57          -  311.99360      -     -    0s\n",
      "H    0     0                     963.0478409  311.99360  67.6%     -    0s\n",
      "H    0     0                     930.2590794  311.99360  66.5%     -    0s\n",
      "H    0     0                     655.3925808  311.99360  52.4%     -    0s\n",
      "     0     0  325.33090    0   79  655.39258  325.33090  50.4%     -    0s\n",
      "H    0     0                     587.0445096  325.33090  44.6%     -    0s\n",
      "H    0     0                     429.0518176  325.33090  24.2%     -    0s\n",
      "     0     0  325.42595    0   72  429.05182  325.42595  24.2%     -    0s\n",
      "     0     0  325.42595    0   72  429.05182  325.42595  24.2%     -    0s\n",
      "     0     0  328.91374    0   88  429.05182  328.91374  23.3%     -    0s\n",
      "H    0     0                     397.5994529  328.91374  17.3%     -    0s\n",
      "     0     0  329.21275    0   82  397.59945  329.21275  17.2%     -    0s\n",
      "     0     0  329.22930    0   82  397.59945  329.22930  17.2%     -    0s\n",
      "     0     0  330.22344    0   84  397.59945  330.22344  16.9%     -    0s\n",
      "     0     0  330.27177    0  109  397.59945  330.27177  16.9%     -    0s\n",
      "     0     0  330.28627    0  122  397.59945  330.28627  16.9%     -    0s\n",
      "     0     0  330.28791    0  112  397.59945  330.28791  16.9%     -    0s\n",
      "     0     0  330.37842    0  118  397.59945  330.37842  16.9%     -    0s\n",
      "     0     0  330.41865    0  112  397.59945  330.41865  16.9%     -    0s\n",
      "     0     0  330.41865    0  112  397.59945  330.41865  16.9%     -    0s\n",
      "     0     0  330.44286    0   98  397.59945  330.44286  16.9%     -    0s\n",
      "     0     0  330.44390    0  116  397.59945  330.44390  16.9%     -    1s\n",
      "     0     0  330.44942    0  121  397.59945  330.44942  16.9%     -    1s\n",
      "     0     0  330.44942    0  120  397.59945  330.44942  16.9%     -    1s\n",
      "     0     0  330.44942    0  121  397.59945  330.44942  16.9%     -    1s\n",
      "     0     0  330.44942    0  113  397.59945  330.44942  16.9%     -    1s\n",
      "     0     2  331.23832    0  113  397.59945  331.23832  16.7%     -    1s\n",
      "H   30    34                     390.8028766  331.23832  15.2%  10.8    1s\n",
      "H  120   126                     382.0327446  331.23832  13.3%   9.7    1s\n",
      "H  177   163                     369.8299378  331.23832  10.4%   9.7    1s\n",
      "H  210   156                     364.5896375  331.23832  9.15%  10.4    1s\n",
      "H  213   149                     361.8128220  331.23832  8.45%  10.5    1s\n",
      "   767   456  333.17042   11   30  361.81282  333.17042  7.92%  12.9    5s\n",
      "H  843   480                     361.5257290  333.99931  7.61%  13.9    5s\n",
      "H  852   461                     360.7368316  333.99931  7.41%  14.0    5s\n",
      "  3036   730  343.28277   21   28  360.73683  338.52560  6.16%  18.1   10s\n",
      "  5802   611 infeasible   36       360.73683  348.26984  3.46%  19.3   15s\n",
      "\n",
      "Cutting planes:\n",
      "  Learned: 3\n",
      "  Gomory: 12\n",
      "  Cover: 36\n",
      "  Implied bound: 15\n",
      "  Projected implied bound: 13\n",
      "  Clique: 6\n",
      "  MIR: 29\n",
      "  StrongCG: 8\n",
      "  Flow cover: 41\n",
      "  GUB cover: 20\n",
      "  Inf proof: 5\n",
      "  Zero half: 10\n",
      "  Mod-K: 1\n",
      "  RLT: 1\n",
      "  Relax-and-lift: 17\n",
      "\n",
      "Explored 7073 nodes (138916 simplex iterations) in 16.92 seconds\n",
      "Thread count was 4 (of 4 available processors)\n",
      "\n",
      "Solution count 10: 360.737 361.526 361.813 ... 587.045\n",
      "\n",
      "Optimal solution found (tolerance 1.00e-04)\n",
      "Best objective 3.607368315946e+02, best bound 3.607368315946e+02, gap 0.0000%\n"
     ]
    }
   ],
   "source": [
    "mod.optimize()"
   ]
  },
  {
   "cell_type": "markdown",
   "id": "934b492a",
   "metadata": {},
   "source": [
    "## Grafico"
   ]
  },
  {
   "cell_type": "code",
   "execution_count": 16,
   "id": "2f952b01",
   "metadata": {},
   "outputs": [
    {
     "data": {
      "image/png": "[encoded data removed]",
      "text/plain": [
       "<Figure size 1440x720 with 1 Axes>"
      ]
     },
     "metadata": {},
     "output_type": "display_data"
    }
   ],
   "source": [
    "\n",
    "Graph = nx.DiGraph()\n",
    "list_nodes = list(range(instance.num_nodes))\n",
    "Graph.add_nodes_from(list_nodes)\n",
    "for i in range(instance.num_nodes):\n",
    "    for j in range(instance.num_nodes) :\n",
    "        if i!=j and x[i,j].x == 1 :\n",
    "            Graph.add_edge(i,j)\n",
    "\n",
    "dict_dem = {}\n",
    "for i in range(instance.num_nodes) :\n",
    "    dict_dem[i] = instance.nodes[i].demand\n",
    "coordinate = {}\n",
    "for i in range(instance.num_nodes):\n",
    "     coordinate[i] = instance.nodes[i].coordinate\n",
    "# Colora di rosso i nodi della soluzione e di verde gli altri\n",
    "node_col = ['purple' for node in Graph.nodes()]\n",
    "# Colora di rosso gli archi della soluzione e di nero gli altri\n",
    "edge_col = ['black' for edge in Graph.edges()]\n",
    "# Draw the nodes\n",
    "nx.draw_networkx(Graph,coordinate, node_color= node_col, node_size=500)\n",
    "# Draw the edges\n",
    "nx.draw_networkx_edges(Graph, coordinate,edge_color= edge_col)\n",
    "# Show the plot\n",
    "#nx.draw_networkx_labels(Graph,coordinate,labels= dict_dem,horizontalalignment='center',verticalalignment='bottom')\n",
    "\n",
    "plt.show()"
   ]
  },
  {
   "cell_type": "code",
   "execution_count": 17,
   "id": "49765fe9",
   "metadata": {},
   "outputs": [
    {
     "name": "stdout",
     "output_type": "stream",
     "text": [
      "[7, 8, 10, 11, 9, 6, 4, 2, 1, 3, 5]\n",
      "[13, 17, 18, 19, 15, 16, 14, 12]\n",
      "[20, 24, 25, 27, 29, 30, 28, 26, 23, 22, 21]\n",
      "[32, 33, 31, 35, 37, 38, 39, 36, 34]\n",
      "[43, 42, 41, 40, 44, 46, 45, 48, 49, 47]\n"
     ]
    }
   ],
   "source": [
    "X = mod.getAttr('x', x)\n",
    "instance.calculate_routes_from_model(X)\n",
    "for i in range(len(instance.routes)) :\n",
    "    print(instance.routes[i])    "
   ]
  },
  {
   "cell_type": "markdown",
   "id": "e92e29ac",
   "metadata": {},
   "source": [
    "----------------------------------------------------------------------------------------------------------------------"
   ]
  }
 ],
 "metadata": {
  "kernelspec": {
   "display_name": "Python 3",
   "language": "python",
   "name": "python3"
  },
  "language_info": {
   "codemirror_mode": {
    "name": "ipython",
    "version": 3
   },
   "file_extension": ".py",
   "mimetype": "text/x-python",
   "name": "python",
   "nbconvert_exporter": "python",
   "pygments_lexer": "ipython3",
   "version": "3.9.4"
  }
 },
 "nbformat": 4,
 "nbformat_minor": 5
}
